{
 "cells": [
  {
   "cell_type": "code",
   "execution_count": 1,
   "metadata": {},
   "outputs": [],
   "source": [
    "from splinter import Browser\n",
    "from bs4 import BeautifulSoup as bs\n",
    "import time\n",
    "import pandas as pd\n",
    "import re"
   ]
  },
  {
   "cell_type": "code",
   "execution_count": 2,
   "metadata": {},
   "outputs": [
    {
     "name": "stdout",
     "output_type": "stream",
     "text": [
      "Title: Curiosity Tastes First Sample in 'Clay-Bearing Unit'\n",
      "Snippit: This new region on Mars might reveal more about the role of water on Mount Sharp.\n"
     ]
    }
   ],
   "source": [
    "# initilize output dictonary and browser\n",
    "output_dict = {}\n",
    "executable_path = {\"executable_path\": \"C:\\\\Users\\\\sseyer\\\\Documents\\\\WashUDataAnalytics\\\\chromedriver.exe\"}\n",
    "browser = Browser(\"chrome\", **executable_path, headless=False)\n",
    "\n",
    "# Get top mars news story from nasa\n",
    "url = \"https://mars.nasa.gov/news/?page=0&per_page=40&order=publish_date+desc%2Ccreated_at+desc&search=&category=19%2C165%2C184%2C204&blank_scope=Latest\"\n",
    "browser.visit(url)\n",
    "\n",
    "time.sleep(1)\n",
    "\n",
    "html = browser.html\n",
    "soup = bs(html, \"html.parser\")\n",
    "\n",
    "# Get the title and teaser from the top mars story\n",
    "\n",
    "ln = soup.find('div', class_='content_title')\n",
    "lp = soup.find('div', class_='article_teaser_body')\n",
    "output_dict['news_title'] = ln.text\n",
    "output_dict['news_info'] = lp.text\n",
    "print('Title: {}'.format(ln.text))\n",
    "print('Snippit: {}'.format(lp.text))"
   ]
  },
  {
   "cell_type": "code",
   "execution_count": 3,
   "metadata": {},
   "outputs": [
    {
     "name": "stdout",
     "output_type": "stream",
     "text": [
      "https://www.jpl.nasa.gov/spaceimages/images/wallpaper/PIA14106-1920x1200.jpg\n"
     ]
    }
   ],
   "source": [
    "# Get the featured mars image\n",
    "\n",
    "url1 = 'https://www.jpl.nasa.gov/spaceimages/?search=&category=Mars'\n",
    "base_url = 'https://www.jpl.nasa.gov'\n",
    "browser.visit(url1)\n",
    "time.sleep(1)\n",
    "html1 = browser.html\n",
    "soup1 = bs(html1,'html.parser')\n",
    "pic = soup1.find('article', class_='carousel_item')\n",
    "first_part = pic['style'].split('\\'')\n",
    "featured_image = (base_url + first_part[1])\n",
    "output_dict['featured_image'] = featured_image\n",
    "print(featured_image)"
   ]
  },
  {
   "cell_type": "code",
   "execution_count": 4,
   "metadata": {},
   "outputs": [
    {
     "name": "stdout",
     "output_type": "stream",
     "text": [
      "InSight sol 134 (2019-04-12) low -98.4ºC (-145.1ºF) high -18.2ºC (-0.8ºF)\n",
      "pressure at 7.30 \n"
     ]
    }
   ],
   "source": [
    "# Get the latest mars weather\n",
    "\n",
    "url2 = 'https://twitter.com/marswxreport?lang=en'\n",
    "browser.visit(url2)\n",
    "time.sleep(1)\n",
    "html2 = browser.html\n",
    "soup2 = bs(html2,'html.parser')\n",
    "pic1 = soup2.find_all('p', class_='TweetTextSize TweetTextSize--normal js-tweet-text tweet-text')\n",
    "regexPattern = '^InSight sol*'\n",
    "for x in pic1:\n",
    "    if (re.match(regexPattern,x.text)):\n",
    "        pic12 = x.text.split('hPapic.twitter.com')\n",
    "        output_dict['mars_weather'] = pic12[0]\n",
    "        break\n",
    "print(output_dict['mars_weather'])"
   ]
  },
  {
   "cell_type": "code",
   "execution_count": 6,
   "metadata": {},
   "outputs": [
    {
     "name": "stdout",
     "output_type": "stream",
     "text": [
      "<table border=\"1\" class=\"dataframe\">\n",
      "  <thead>\n",
      "    <tr style=\"text-align: right;\">\n",
      "      <th></th>\n",
      "      <th>Value</th>\n",
      "    </tr>\n",
      "    <tr>\n",
      "      <th>Description</th>\n",
      "      <th></th>\n",
      "    </tr>\n",
      "  </thead>\n",
      "  <tbody>\n",
      "    <tr>\n",
      "      <th>Equatorial Diameter:</th>\n",
      "      <td>6,792 km</td>\n",
      "    </tr>\n",
      "    <tr>\n",
      "      <th>Polar Diameter:</th>\n",
      "      <td>6,752 km</td>\n",
      "    </tr>\n",
      "    <tr>\n",
      "      <th>Mass:</th>\n",
      "      <td>6.42 x 10^23 kg (10.7% Earth)</td>\n",
      "    </tr>\n",
      "    <tr>\n",
      "      <th>Moons:</th>\n",
      "      <td>2 (Phobos &amp; Deimos)</td>\n",
      "    </tr>\n",
      "    <tr>\n",
      "      <th>Orbit Distance:</th>\n",
      "      <td>227,943,824 km (1.52 AU)</td>\n",
      "    </tr>\n",
      "    <tr>\n",
      "      <th>Orbit Period:</th>\n",
      "      <td>687 days (1.9 years)</td>\n",
      "    </tr>\n",
      "    <tr>\n",
      "      <th>Surface Temperature:</th>\n",
      "      <td>-153 to 20 °C</td>\n",
      "    </tr>\n",
      "    <tr>\n",
      "      <th>First Record:</th>\n",
      "      <td>2nd millennium BC</td>\n",
      "    </tr>\n",
      "    <tr>\n",
      "      <th>Recorded By:</th>\n",
      "      <td>Egyptian astronomers</td>\n",
      "    </tr>\n",
      "  </tbody>\n",
      "</table>\n"
     ]
    }
   ],
   "source": [
    "# get mars table data\n",
    "table = pd.read_html(url3)\n",
    "table[0].columns=['Description','Value']\n",
    "table[0].set_index('Description',inplace=True)\n",
    "mars_table = table[0].to_html()\n",
    "output_dict['mars_table'] = mars_table\n",
    "print(output_dict['mars_table'])"
   ]
  },
  {
   "cell_type": "code",
   "execution_count": 7,
   "metadata": {},
   "outputs": [
    {
     "name": "stdout",
     "output_type": "stream",
     "text": [
      "[{'title': 'Cerberus Hemisphere Enhanced', 'link': 'http://astropedia.astrogeology.usgs.gov/download/Mars/Viking/cerberus_enhanced.tif/full.jpg'}, {'title': 'Cerberus Hemisphere Enhanced', 'link': 'http://astropedia.astrogeology.usgs.gov/download/Mars/Viking/cerberus_enhanced.tif/full.jpg'}, {'title': 'Schiaparelli Hemisphere Enhanced', 'link': 'http://astropedia.astrogeology.usgs.gov/download/Mars/Viking/schiaparelli_enhanced.tif/full.jpg'}, {'title': 'Cerberus Hemisphere Enhanced', 'link': 'http://astropedia.astrogeology.usgs.gov/download/Mars/Viking/cerberus_enhanced.tif/full.jpg'}, {'title': 'Schiaparelli Hemisphere Enhanced', 'link': 'http://astropedia.astrogeology.usgs.gov/download/Mars/Viking/schiaparelli_enhanced.tif/full.jpg'}, {'title': 'Syrtis Major Hemisphere Enhanced', 'link': 'http://astropedia.astrogeology.usgs.gov/download/Mars/Viking/syrtis_major_enhanced.tif/full.jpg'}, {'title': 'Cerberus Hemisphere Enhanced', 'link': 'http://astropedia.astrogeology.usgs.gov/download/Mars/Viking/cerberus_enhanced.tif/full.jpg'}, {'title': 'Schiaparelli Hemisphere Enhanced', 'link': 'http://astropedia.astrogeology.usgs.gov/download/Mars/Viking/schiaparelli_enhanced.tif/full.jpg'}, {'title': 'Syrtis Major Hemisphere Enhanced', 'link': 'http://astropedia.astrogeology.usgs.gov/download/Mars/Viking/syrtis_major_enhanced.tif/full.jpg'}, {'title': 'Valles Marineris Hemisphere Enhanced', 'link': 'http://astropedia.astrogeology.usgs.gov/download/Mars/Viking/valles_marineris_enhanced.tif/full.jpg'}]\n"
     ]
    }
   ],
   "source": [
    "#Get hemisphere pics and titles\n",
    "url4 = 'https://astrogeology.usgs.gov/search/results?q=hemisphere+enhanced&k1=target&v1=Mars'\n",
    "part_url = 'https://astrogeology.usgs.gov'\n",
    "browser.visit(url4)\n",
    "time.sleep(1)\n",
    "html4 = browser.html\n",
    "soup4 = bs(html4,'html.parser')\n",
    "hemi = soup4.find_all('div', class_='description')\n",
    "h_data = {}\n",
    "h_final_data = []\n",
    "\n",
    "# find the links to the hemi pics\n",
    "for h in hemi:\n",
    "    hpic = h.find('a')\n",
    "    pic_title = h.find('h3')\n",
    "    get_pic = (part_url + hpic['href'])\n",
    "    h_data[pic_title.text] = get_pic\n",
    "\n",
    "    # get the url's for the hemi pics\n",
    "    for v in h_data.keys():\n",
    "        browser.visit(h_data[v])\n",
    "        time.sleep(1)\n",
    "        tmp_html = browser.html\n",
    "        tmp_soup = bs(tmp_html,'html.parser')\n",
    "        tmp_dat = tmp_soup.find_all('div', class_='downloads')\n",
    "\n",
    "        for final in tmp_dat:\n",
    "            li_f = final.find('li')\n",
    "            h_final_data.append({'title':v,'link':li_f.a['href']})\n",
    "\n",
    "output_dict['hemispheres'] = h_final_data\n",
    "print(output_dict['hemispheres'])"
   ]
  },
  {
   "cell_type": "code",
   "execution_count": 8,
   "metadata": {},
   "outputs": [],
   "source": [
    "# close browser window\n",
    "browser.quit()"
   ]
  }
 ],
 "metadata": {
  "kernelspec": {
   "display_name": "Python 3",
   "language": "python",
   "name": "python3"
  },
  "language_info": {
   "codemirror_mode": {
    "name": "ipython",
    "version": 3
   },
   "file_extension": ".py",
   "mimetype": "text/x-python",
   "name": "python",
   "nbconvert_exporter": "python",
   "pygments_lexer": "ipython3",
   "version": "3.7.3"
  }
 },
 "nbformat": 4,
 "nbformat_minor": 2
}
